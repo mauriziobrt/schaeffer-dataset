{
  "nbformat": 4,
  "nbformat_minor": 0,
  "metadata": {
    "colab": {
      "provenance": [],
      "gpuType": "T4",
      "authorship_tag": "ABX9TyMBUnMz4YzNjlyQNpSSp77m",
      "include_colab_link": true
    },
    "kernelspec": {
      "name": "python3",
      "display_name": "Python 3"
    },
    "language_info": {
      "name": "python"
    },
    "accelerator": "GPU",
    "widgets": {
      "application/vnd.jupyter.widget-state+json": {
        "cba119cbc91240f891df27c99b810a68": {
          "model_module": "@jupyter-widgets/controls",
          "model_name": "HBoxModel",
          "model_module_version": "1.5.0",
          "state": {
            "_dom_classes": [],
            "_model_module": "@jupyter-widgets/controls",
            "_model_module_version": "1.5.0",
            "_model_name": "HBoxModel",
            "_view_count": null,
            "_view_module": "@jupyter-widgets/controls",
            "_view_module_version": "1.5.0",
            "_view_name": "HBoxView",
            "box_style": "",
            "children": [
              "IPY_MODEL_686f7369cce142ad845a2a7e37723e6f",
              "IPY_MODEL_764dd2fb1345456e98cfeba38d316ac0",
              "IPY_MODEL_d9fff823524549948c279011f3248a54"
            ],
            "layout": "IPY_MODEL_663cbddafd20414cac0eec67bef18ede"
          }
        },
        "686f7369cce142ad845a2a7e37723e6f": {
          "model_module": "@jupyter-widgets/controls",
          "model_name": "HTMLModel",
          "model_module_version": "1.5.0",
          "state": {
            "_dom_classes": [],
            "_model_module": "@jupyter-widgets/controls",
            "_model_module_version": "1.5.0",
            "_model_name": "HTMLModel",
            "_view_count": null,
            "_view_module": "@jupyter-widgets/controls",
            "_view_module_version": "1.5.0",
            "_view_name": "HTMLView",
            "description": "",
            "description_tooltip": null,
            "layout": "IPY_MODEL_7d50d01743854e43bf2c00386fe431cf",
            "placeholder": "​",
            "style": "IPY_MODEL_3e5cc9973e2f4cb1882535d30d8c0d2c",
            "value": " 22%"
          }
        },
        "764dd2fb1345456e98cfeba38d316ac0": {
          "model_module": "@jupyter-widgets/controls",
          "model_name": "FloatProgressModel",
          "model_module_version": "1.5.0",
          "state": {
            "_dom_classes": [],
            "_model_module": "@jupyter-widgets/controls",
            "_model_module_version": "1.5.0",
            "_model_name": "FloatProgressModel",
            "_view_count": null,
            "_view_module": "@jupyter-widgets/controls",
            "_view_module_version": "1.5.0",
            "_view_name": "ProgressView",
            "bar_style": "",
            "description": "",
            "description_tooltip": null,
            "layout": "IPY_MODEL_f9ed716fa8ae41d7bed0341eebeb0d82",
            "max": 50,
            "min": 0,
            "orientation": "horizontal",
            "style": "IPY_MODEL_c91bbfad29614866a7e732c76a17cf49",
            "value": 11
          }
        },
        "d9fff823524549948c279011f3248a54": {
          "model_module": "@jupyter-widgets/controls",
          "model_name": "HTMLModel",
          "model_module_version": "1.5.0",
          "state": {
            "_dom_classes": [],
            "_model_module": "@jupyter-widgets/controls",
            "_model_module_version": "1.5.0",
            "_model_name": "HTMLModel",
            "_view_count": null,
            "_view_module": "@jupyter-widgets/controls",
            "_view_module_version": "1.5.0",
            "_view_name": "HTMLView",
            "description": "",
            "description_tooltip": null,
            "layout": "IPY_MODEL_4b9c470ee1ae439d90a57eb39f43dfcc",
            "placeholder": "​",
            "style": "IPY_MODEL_1b53787494324bd2a20b576befe7e953",
            "value": " 11/50 [00:22&lt;01:14,  1.92s/it]"
          }
        },
        "663cbddafd20414cac0eec67bef18ede": {
          "model_module": "@jupyter-widgets/base",
          "model_name": "LayoutModel",
          "model_module_version": "1.2.0",
          "state": {
            "_model_module": "@jupyter-widgets/base",
            "_model_module_version": "1.2.0",
            "_model_name": "LayoutModel",
            "_view_count": null,
            "_view_module": "@jupyter-widgets/base",
            "_view_module_version": "1.2.0",
            "_view_name": "LayoutView",
            "align_content": null,
            "align_items": null,
            "align_self": null,
            "border": null,
            "bottom": null,
            "display": null,
            "flex": null,
            "flex_flow": null,
            "grid_area": null,
            "grid_auto_columns": null,
            "grid_auto_flow": null,
            "grid_auto_rows": null,
            "grid_column": null,
            "grid_gap": null,
            "grid_row": null,
            "grid_template_areas": null,
            "grid_template_columns": null,
            "grid_template_rows": null,
            "height": null,
            "justify_content": null,
            "justify_items": null,
            "left": null,
            "margin": null,
            "max_height": null,
            "max_width": null,
            "min_height": null,
            "min_width": null,
            "object_fit": null,
            "object_position": null,
            "order": null,
            "overflow": null,
            "overflow_x": null,
            "overflow_y": null,
            "padding": null,
            "right": null,
            "top": null,
            "visibility": null,
            "width": null
          }
        },
        "7d50d01743854e43bf2c00386fe431cf": {
          "model_module": "@jupyter-widgets/base",
          "model_name": "LayoutModel",
          "model_module_version": "1.2.0",
          "state": {
            "_model_module": "@jupyter-widgets/base",
            "_model_module_version": "1.2.0",
            "_model_name": "LayoutModel",
            "_view_count": null,
            "_view_module": "@jupyter-widgets/base",
            "_view_module_version": "1.2.0",
            "_view_name": "LayoutView",
            "align_content": null,
            "align_items": null,
            "align_self": null,
            "border": null,
            "bottom": null,
            "display": null,
            "flex": null,
            "flex_flow": null,
            "grid_area": null,
            "grid_auto_columns": null,
            "grid_auto_flow": null,
            "grid_auto_rows": null,
            "grid_column": null,
            "grid_gap": null,
            "grid_row": null,
            "grid_template_areas": null,
            "grid_template_columns": null,
            "grid_template_rows": null,
            "height": null,
            "justify_content": null,
            "justify_items": null,
            "left": null,
            "margin": null,
            "max_height": null,
            "max_width": null,
            "min_height": null,
            "min_width": null,
            "object_fit": null,
            "object_position": null,
            "order": null,
            "overflow": null,
            "overflow_x": null,
            "overflow_y": null,
            "padding": null,
            "right": null,
            "top": null,
            "visibility": null,
            "width": null
          }
        },
        "3e5cc9973e2f4cb1882535d30d8c0d2c": {
          "model_module": "@jupyter-widgets/controls",
          "model_name": "DescriptionStyleModel",
          "model_module_version": "1.5.0",
          "state": {
            "_model_module": "@jupyter-widgets/controls",
            "_model_module_version": "1.5.0",
            "_model_name": "DescriptionStyleModel",
            "_view_count": null,
            "_view_module": "@jupyter-widgets/base",
            "_view_module_version": "1.2.0",
            "_view_name": "StyleView",
            "description_width": ""
          }
        },
        "f9ed716fa8ae41d7bed0341eebeb0d82": {
          "model_module": "@jupyter-widgets/base",
          "model_name": "LayoutModel",
          "model_module_version": "1.2.0",
          "state": {
            "_model_module": "@jupyter-widgets/base",
            "_model_module_version": "1.2.0",
            "_model_name": "LayoutModel",
            "_view_count": null,
            "_view_module": "@jupyter-widgets/base",
            "_view_module_version": "1.2.0",
            "_view_name": "LayoutView",
            "align_content": null,
            "align_items": null,
            "align_self": null,
            "border": null,
            "bottom": null,
            "display": null,
            "flex": null,
            "flex_flow": null,
            "grid_area": null,
            "grid_auto_columns": null,
            "grid_auto_flow": null,
            "grid_auto_rows": null,
            "grid_column": null,
            "grid_gap": null,
            "grid_row": null,
            "grid_template_areas": null,
            "grid_template_columns": null,
            "grid_template_rows": null,
            "height": null,
            "justify_content": null,
            "justify_items": null,
            "left": null,
            "margin": null,
            "max_height": null,
            "max_width": null,
            "min_height": null,
            "min_width": null,
            "object_fit": null,
            "object_position": null,
            "order": null,
            "overflow": null,
            "overflow_x": null,
            "overflow_y": null,
            "padding": null,
            "right": null,
            "top": null,
            "visibility": null,
            "width": null
          }
        },
        "c91bbfad29614866a7e732c76a17cf49": {
          "model_module": "@jupyter-widgets/controls",
          "model_name": "ProgressStyleModel",
          "model_module_version": "1.5.0",
          "state": {
            "_model_module": "@jupyter-widgets/controls",
            "_model_module_version": "1.5.0",
            "_model_name": "ProgressStyleModel",
            "_view_count": null,
            "_view_module": "@jupyter-widgets/base",
            "_view_module_version": "1.2.0",
            "_view_name": "StyleView",
            "bar_color": null,
            "description_width": ""
          }
        },
        "4b9c470ee1ae439d90a57eb39f43dfcc": {
          "model_module": "@jupyter-widgets/base",
          "model_name": "LayoutModel",
          "model_module_version": "1.2.0",
          "state": {
            "_model_module": "@jupyter-widgets/base",
            "_model_module_version": "1.2.0",
            "_model_name": "LayoutModel",
            "_view_count": null,
            "_view_module": "@jupyter-widgets/base",
            "_view_module_version": "1.2.0",
            "_view_name": "LayoutView",
            "align_content": null,
            "align_items": null,
            "align_self": null,
            "border": null,
            "bottom": null,
            "display": null,
            "flex": null,
            "flex_flow": null,
            "grid_area": null,
            "grid_auto_columns": null,
            "grid_auto_flow": null,
            "grid_auto_rows": null,
            "grid_column": null,
            "grid_gap": null,
            "grid_row": null,
            "grid_template_areas": null,
            "grid_template_columns": null,
            "grid_template_rows": null,
            "height": null,
            "justify_content": null,
            "justify_items": null,
            "left": null,
            "margin": null,
            "max_height": null,
            "max_width": null,
            "min_height": null,
            "min_width": null,
            "object_fit": null,
            "object_position": null,
            "order": null,
            "overflow": null,
            "overflow_x": null,
            "overflow_y": null,
            "padding": null,
            "right": null,
            "top": null,
            "visibility": null,
            "width": null
          }
        },
        "1b53787494324bd2a20b576befe7e953": {
          "model_module": "@jupyter-widgets/controls",
          "model_name": "DescriptionStyleModel",
          "model_module_version": "1.5.0",
          "state": {
            "_model_module": "@jupyter-widgets/controls",
            "_model_module_version": "1.5.0",
            "_model_name": "DescriptionStyleModel",
            "_view_count": null,
            "_view_module": "@jupyter-widgets/base",
            "_view_module_version": "1.2.0",
            "_view_name": "StyleView",
            "description_width": ""
          }
        },
        "d9b0db79ea7543acb36a404cb2bdc4ac": {
          "model_module": "@jupyter-widgets/controls",
          "model_name": "HBoxModel",
          "model_module_version": "1.5.0",
          "state": {
            "_dom_classes": [],
            "_model_module": "@jupyter-widgets/controls",
            "_model_module_version": "1.5.0",
            "_model_name": "HBoxModel",
            "_view_count": null,
            "_view_module": "@jupyter-widgets/controls",
            "_view_module_version": "1.5.0",
            "_view_name": "HBoxView",
            "box_style": "",
            "children": [
              "IPY_MODEL_ee59887835414597a27f07ff07ed320e",
              "IPY_MODEL_ed0f697ca03c4f439f8ddc6ad9f7e49e",
              "IPY_MODEL_dd021ad21f544e149f2448ae8640f408"
            ],
            "layout": "IPY_MODEL_d1897e1a33f84215807a9156f1284d75"
          }
        },
        "ee59887835414597a27f07ff07ed320e": {
          "model_module": "@jupyter-widgets/controls",
          "model_name": "HTMLModel",
          "model_module_version": "1.5.0",
          "state": {
            "_dom_classes": [],
            "_model_module": "@jupyter-widgets/controls",
            "_model_module_version": "1.5.0",
            "_model_name": "HTMLModel",
            "_view_count": null,
            "_view_module": "@jupyter-widgets/controls",
            "_view_module_version": "1.5.0",
            "_view_name": "HTMLView",
            "description": "",
            "description_tooltip": null,
            "layout": "IPY_MODEL_2d4a0126295949dcacbb4f6db9998778",
            "placeholder": "​",
            "style": "IPY_MODEL_f9c596ea4677487b97dcf4b0bc67618c",
            "value": "100%"
          }
        },
        "ed0f697ca03c4f439f8ddc6ad9f7e49e": {
          "model_module": "@jupyter-widgets/controls",
          "model_name": "FloatProgressModel",
          "model_module_version": "1.5.0",
          "state": {
            "_dom_classes": [],
            "_model_module": "@jupyter-widgets/controls",
            "_model_module_version": "1.5.0",
            "_model_name": "FloatProgressModel",
            "_view_count": null,
            "_view_module": "@jupyter-widgets/controls",
            "_view_module_version": "1.5.0",
            "_view_name": "ProgressView",
            "bar_style": "success",
            "description": "",
            "description_tooltip": null,
            "layout": "IPY_MODEL_fe95781b4e7e4a87b86a9620de25dcf1",
            "max": 50,
            "min": 0,
            "orientation": "horizontal",
            "style": "IPY_MODEL_04212e6fab734a94a1b331148e4fa0f9",
            "value": 50
          }
        },
        "dd021ad21f544e149f2448ae8640f408": {
          "model_module": "@jupyter-widgets/controls",
          "model_name": "HTMLModel",
          "model_module_version": "1.5.0",
          "state": {
            "_dom_classes": [],
            "_model_module": "@jupyter-widgets/controls",
            "_model_module_version": "1.5.0",
            "_model_name": "HTMLModel",
            "_view_count": null,
            "_view_module": "@jupyter-widgets/controls",
            "_view_module_version": "1.5.0",
            "_view_name": "HTMLView",
            "description": "",
            "description_tooltip": null,
            "layout": "IPY_MODEL_ae73d6168fae47e9bf6ae78dd4981efd",
            "placeholder": "​",
            "style": "IPY_MODEL_2160e3e468ec46b1b1c3e44385861dd4",
            "value": " 50/50 [01:35&lt;00:00,  1.84s/it]"
          }
        },
        "d1897e1a33f84215807a9156f1284d75": {
          "model_module": "@jupyter-widgets/base",
          "model_name": "LayoutModel",
          "model_module_version": "1.2.0",
          "state": {
            "_model_module": "@jupyter-widgets/base",
            "_model_module_version": "1.2.0",
            "_model_name": "LayoutModel",
            "_view_count": null,
            "_view_module": "@jupyter-widgets/base",
            "_view_module_version": "1.2.0",
            "_view_name": "LayoutView",
            "align_content": null,
            "align_items": null,
            "align_self": null,
            "border": null,
            "bottom": null,
            "display": null,
            "flex": null,
            "flex_flow": null,
            "grid_area": null,
            "grid_auto_columns": null,
            "grid_auto_flow": null,
            "grid_auto_rows": null,
            "grid_column": null,
            "grid_gap": null,
            "grid_row": null,
            "grid_template_areas": null,
            "grid_template_columns": null,
            "grid_template_rows": null,
            "height": null,
            "justify_content": null,
            "justify_items": null,
            "left": null,
            "margin": null,
            "max_height": null,
            "max_width": null,
            "min_height": null,
            "min_width": null,
            "object_fit": null,
            "object_position": null,
            "order": null,
            "overflow": null,
            "overflow_x": null,
            "overflow_y": null,
            "padding": null,
            "right": null,
            "top": null,
            "visibility": null,
            "width": null
          }
        },
        "2d4a0126295949dcacbb4f6db9998778": {
          "model_module": "@jupyter-widgets/base",
          "model_name": "LayoutModel",
          "model_module_version": "1.2.0",
          "state": {
            "_model_module": "@jupyter-widgets/base",
            "_model_module_version": "1.2.0",
            "_model_name": "LayoutModel",
            "_view_count": null,
            "_view_module": "@jupyter-widgets/base",
            "_view_module_version": "1.2.0",
            "_view_name": "LayoutView",
            "align_content": null,
            "align_items": null,
            "align_self": null,
            "border": null,
            "bottom": null,
            "display": null,
            "flex": null,
            "flex_flow": null,
            "grid_area": null,
            "grid_auto_columns": null,
            "grid_auto_flow": null,
            "grid_auto_rows": null,
            "grid_column": null,
            "grid_gap": null,
            "grid_row": null,
            "grid_template_areas": null,
            "grid_template_columns": null,
            "grid_template_rows": null,
            "height": null,
            "justify_content": null,
            "justify_items": null,
            "left": null,
            "margin": null,
            "max_height": null,
            "max_width": null,
            "min_height": null,
            "min_width": null,
            "object_fit": null,
            "object_position": null,
            "order": null,
            "overflow": null,
            "overflow_x": null,
            "overflow_y": null,
            "padding": null,
            "right": null,
            "top": null,
            "visibility": null,
            "width": null
          }
        },
        "f9c596ea4677487b97dcf4b0bc67618c": {
          "model_module": "@jupyter-widgets/controls",
          "model_name": "DescriptionStyleModel",
          "model_module_version": "1.5.0",
          "state": {
            "_model_module": "@jupyter-widgets/controls",
            "_model_module_version": "1.5.0",
            "_model_name": "DescriptionStyleModel",
            "_view_count": null,
            "_view_module": "@jupyter-widgets/base",
            "_view_module_version": "1.2.0",
            "_view_name": "StyleView",
            "description_width": ""
          }
        },
        "fe95781b4e7e4a87b86a9620de25dcf1": {
          "model_module": "@jupyter-widgets/base",
          "model_name": "LayoutModel",
          "model_module_version": "1.2.0",
          "state": {
            "_model_module": "@jupyter-widgets/base",
            "_model_module_version": "1.2.0",
            "_model_name": "LayoutModel",
            "_view_count": null,
            "_view_module": "@jupyter-widgets/base",
            "_view_module_version": "1.2.0",
            "_view_name": "LayoutView",
            "align_content": null,
            "align_items": null,
            "align_self": null,
            "border": null,
            "bottom": null,
            "display": null,
            "flex": null,
            "flex_flow": null,
            "grid_area": null,
            "grid_auto_columns": null,
            "grid_auto_flow": null,
            "grid_auto_rows": null,
            "grid_column": null,
            "grid_gap": null,
            "grid_row": null,
            "grid_template_areas": null,
            "grid_template_columns": null,
            "grid_template_rows": null,
            "height": null,
            "justify_content": null,
            "justify_items": null,
            "left": null,
            "margin": null,
            "max_height": null,
            "max_width": null,
            "min_height": null,
            "min_width": null,
            "object_fit": null,
            "object_position": null,
            "order": null,
            "overflow": null,
            "overflow_x": null,
            "overflow_y": null,
            "padding": null,
            "right": null,
            "top": null,
            "visibility": null,
            "width": null
          }
        },
        "04212e6fab734a94a1b331148e4fa0f9": {
          "model_module": "@jupyter-widgets/controls",
          "model_name": "ProgressStyleModel",
          "model_module_version": "1.5.0",
          "state": {
            "_model_module": "@jupyter-widgets/controls",
            "_model_module_version": "1.5.0",
            "_model_name": "ProgressStyleModel",
            "_view_count": null,
            "_view_module": "@jupyter-widgets/base",
            "_view_module_version": "1.2.0",
            "_view_name": "StyleView",
            "bar_color": null,
            "description_width": ""
          }
        },
        "ae73d6168fae47e9bf6ae78dd4981efd": {
          "model_module": "@jupyter-widgets/base",
          "model_name": "LayoutModel",
          "model_module_version": "1.2.0",
          "state": {
            "_model_module": "@jupyter-widgets/base",
            "_model_module_version": "1.2.0",
            "_model_name": "LayoutModel",
            "_view_count": null,
            "_view_module": "@jupyter-widgets/base",
            "_view_module_version": "1.2.0",
            "_view_name": "LayoutView",
            "align_content": null,
            "align_items": null,
            "align_self": null,
            "border": null,
            "bottom": null,
            "display": null,
            "flex": null,
            "flex_flow": null,
            "grid_area": null,
            "grid_auto_columns": null,
            "grid_auto_flow": null,
            "grid_auto_rows": null,
            "grid_column": null,
            "grid_gap": null,
            "grid_row": null,
            "grid_template_areas": null,
            "grid_template_columns": null,
            "grid_template_rows": null,
            "height": null,
            "justify_content": null,
            "justify_items": null,
            "left": null,
            "margin": null,
            "max_height": null,
            "max_width": null,
            "min_height": null,
            "min_width": null,
            "object_fit": null,
            "object_position": null,
            "order": null,
            "overflow": null,
            "overflow_x": null,
            "overflow_y": null,
            "padding": null,
            "right": null,
            "top": null,
            "visibility": null,
            "width": null
          }
        },
        "2160e3e468ec46b1b1c3e44385861dd4": {
          "model_module": "@jupyter-widgets/controls",
          "model_name": "DescriptionStyleModel",
          "model_module_version": "1.5.0",
          "state": {
            "_model_module": "@jupyter-widgets/controls",
            "_model_module_version": "1.5.0",
            "_model_name": "DescriptionStyleModel",
            "_view_count": null,
            "_view_module": "@jupyter-widgets/base",
            "_view_module_version": "1.2.0",
            "_view_name": "StyleView",
            "description_width": ""
          }
        }
      }
    }
  },
  "cells": [
    {
      "cell_type": "markdown",
      "metadata": {
        "id": "view-in-github",
        "colab_type": "text"
      },
      "source": [
        "<a href=\"https://colab.research.google.com/github/mauriziobrt/schaeffer-dataset/blob/main/riffusion_generation_schaeffer.ipynb\" target=\"_parent\"><img src=\"https://colab.research.google.com/assets/colab-badge.svg\" alt=\"Open In Colab\"/></a>"
      ]
    },
    {
      "cell_type": "markdown",
      "source": [
        "# Generation"
      ],
      "metadata": {
        "id": "l2IeJ_9CEBVf"
      }
    },
    {
      "cell_type": "code",
      "source": [
        "#@title Install dependencies\n",
        "!pip install diffusers accelerate"
      ],
      "metadata": {
        "id": "1HYcmUaWoTO-",
        "cellView": "form"
      },
      "execution_count": null,
      "outputs": []
    },
    {
      "cell_type": "code",
      "source": [
        "#@title Install Converter\n",
        "!git clone https://github.com/mauriziobrt/riffusion_fix_image_audio.git\n",
        "%pip install argh audiosegment"
      ],
      "metadata": {
        "cellView": "form",
        "id": "ab8eMJvwNx_z"
      },
      "execution_count": null,
      "outputs": []
    },
    {
      "cell_type": "code",
      "source": [
        "#@title Move riffusion outside of folder else conversion won't work\n",
        "!mv \"/content/riffusion_fix_image_audio/riffusion/\" \"/content/riffusion/\""
      ],
      "metadata": {
        "cellView": "form",
        "id": "P4egYuAiNFnZ"
      },
      "execution_count": 8,
      "outputs": []
    },
    {
      "cell_type": "code",
      "source": [
        "#@title Import libraries\n",
        "import pydub\n",
        "import importlib\n",
        "from riffusion.spectrogram_params import SpectrogramParams\n",
        "from riffusion.spectrogram_converter import SpectrogramConverter\n",
        "from riffusion.spectrogram_image_converter import SpectrogramImageConverter"
      ],
      "metadata": {
        "id": "jhWEzq9_Mqp7"
      },
      "execution_count": 9,
      "outputs": []
    },
    {
      "cell_type": "code",
      "source": [
        "#@title Instantiate converters\n",
        "param = SpectrogramParams()\n",
        "spec_conv = SpectrogramConverter(params = param)\n",
        "spec_img_conv = SpectrogramImageConverter(params= param)\n",
        "SpectrogramConverter(params= param)"
      ],
      "metadata": {
        "colab": {
          "base_uri": "https://localhost:8080/"
        },
        "cellView": "form",
        "id": "1KMZ_RQHMwYT",
        "outputId": "56f95e16-4d21-48e9-f2cd-8b91ace84f72"
      },
      "execution_count": 10,
      "outputs": [
        {
          "output_type": "execute_result",
          "data": {
            "text/plain": [
              "<riffusion.spectrogram_converter.SpectrogramConverter at 0x79ae96a8e980>"
            ]
          },
          "metadata": {},
          "execution_count": 10
        }
      ]
    },
    {
      "cell_type": "code",
      "execution_count": null,
      "metadata": {
        "id": "AEA9FH32oGEU",
        "cellView": "form"
      },
      "outputs": [],
      "source": [
        "#@title Load pipeline\n",
        "from diffusers import DiffusionPipeline\n",
        "\n",
        "pipeline = DiffusionPipeline.from_pretrained(\"riffusion/riffusion-model-v1\").to(\"cuda\")\n",
        "pipeline.load_lora_weights(\"mrzbrt/schaeffer-lora\", weight_name=\"checkpoint-40000/pytorch_lora_weights.safetensors\")\n",
        "#image = pipeline(\"A pulsar synthesis articulated sound that starts with voice shimmering and ends with a granular synth, distorted\").images[0]"
      ]
    },
    {
      "cell_type": "markdown",
      "source": [
        "Example captions:\n",
        "- \"A pulsar synthesis articulated sound that starts with voice shimmering and ends with a granular synth, distorted\""
      ],
      "metadata": {
        "id": "vUpQlmqzFJR8"
      }
    },
    {
      "cell_type": "code",
      "source": [
        "#@title Parameters for the generation sound objects\n",
        "images_nr = 10 # @param {type:\"integer\"}\n",
        "prompt = \"this sound is a flute recording. Only the central part known as body of the instrument is played. The flute is played by blowing inside and mimicking the sound of a trumpet. The fixed note is Sol.\" # @param {type:\"string\"}"
      ],
      "metadata": {
        "id": "kjc0YFOkzpnL",
        "cellView": "form"
      },
      "execution_count": 67,
      "outputs": []
    },
    {
      "cell_type": "code",
      "source": [
        "#@title Load generator\n",
        "import torch\n",
        "\n",
        "generator = [torch.Generator(device=\"cuda\").manual_seed(i) for i in range(4)]"
      ],
      "metadata": {
        "cellView": "form",
        "id": "AyPtEO1GJK4b"
      },
      "execution_count": 74,
      "outputs": []
    },
    {
      "cell_type": "code",
      "source": [
        "#@title Start Generation\n",
        "images = pipeline(prompt, generator=generator, num_images_per_prompt=4).images\n",
        "audios = []\n",
        "for element in images:\n",
        "  audios.append(spec_img_conv.audio_from_spectrogram_image(image = element))"
      ],
      "metadata": {
        "colab": {
          "base_uri": "https://localhost:8080/",
          "height": 49,
          "referenced_widgets": [
            "cba119cbc91240f891df27c99b810a68",
            "686f7369cce142ad845a2a7e37723e6f",
            "764dd2fb1345456e98cfeba38d316ac0",
            "d9fff823524549948c279011f3248a54",
            "663cbddafd20414cac0eec67bef18ede",
            "7d50d01743854e43bf2c00386fe431cf",
            "3e5cc9973e2f4cb1882535d30d8c0d2c",
            "f9ed716fa8ae41d7bed0341eebeb0d82",
            "c91bbfad29614866a7e732c76a17cf49",
            "4b9c470ee1ae439d90a57eb39f43dfcc",
            "1b53787494324bd2a20b576befe7e953"
          ]
        },
        "cellView": "form",
        "id": "515_6IpwJOIg",
        "outputId": "3836bd7c-c19d-4738-cbe6-e4fdd7420dfc"
      },
      "execution_count": null,
      "outputs": [
        {
          "output_type": "display_data",
          "data": {
            "text/plain": [
              "  0%|          | 0/50 [00:00<?, ?it/s]"
            ],
            "application/vnd.jupyter.widget-view+json": {
              "version_major": 2,
              "version_minor": 0,
              "model_id": "cba119cbc91240f891df27c99b810a68"
            }
          },
          "metadata": {}
        }
      ]
    },
    {
      "cell_type": "code",
      "source": [
        "#@title Now choose which index sounds better for you, if they are all bad re-generate new ones.\n",
        "index = 2 #@param {type: \"integer\"}\n",
        "audios[index]\n",
        "\n",
        "#@markdown Keep the index where you want it, it will be reused fo newer generations!"
      ],
      "metadata": {
        "colab": {
          "base_uri": "https://localhost:8080/",
          "height": 62
        },
        "cellView": "form",
        "id": "i3vxypisOtVN",
        "outputId": "4fe156b3-6f49-49d5-8918-58c6a04db829"
      },
      "execution_count": 73,
      "outputs": [
        {
          "output_type": "execute_result",
          "data": {
            "text/plain": [
              "<pydub.audio_segment.AudioSegment at 0x79ade72a3970>"
            ],
            "text/html": [
              "\n",
              "                    <audio controls>\n",
              "                        <source src=\"data:audio/mpeg;base64,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\" type=\"audio/mpeg\"/>\n",
              "                        Your browser does not support the audio element.\n",
              "                    </audio>\n",
              "                  "
            ]
          },
          "metadata": {},
          "execution_count": 73
        }
      ]
    },
    {
      "cell_type": "code",
      "source": [
        "#@title Fix prompt and decide from which seed to start\n",
        "prompt = [prompt + t for t in [\", articulated\", \", complex\", \", slow decay\", \"marked onset\"]]\n",
        "generator = [torch.Generator(device=\"cuda\").manual_seed(index) for i in range(4)]"
      ],
      "metadata": {
        "id": "0_OlBc-hJfvE"
      },
      "execution_count": 60,
      "outputs": []
    },
    {
      "cell_type": "code",
      "source": [
        "#@title Generate an example similar to the index you chose\n",
        "images = pipeline(prompt, generator=generator).images\n",
        "audios = []\n",
        "for element in images:\n",
        "  audios.append(spec_img_conv.audio_from_spectrogram_image(image = element))"
      ],
      "metadata": {
        "colab": {
          "base_uri": "https://localhost:8080/",
          "height": 49,
          "referenced_widgets": [
            "d9b0db79ea7543acb36a404cb2bdc4ac",
            "ee59887835414597a27f07ff07ed320e",
            "ed0f697ca03c4f439f8ddc6ad9f7e49e",
            "dd021ad21f544e149f2448ae8640f408",
            "d1897e1a33f84215807a9156f1284d75",
            "2d4a0126295949dcacbb4f6db9998778",
            "f9c596ea4677487b97dcf4b0bc67618c",
            "fe95781b4e7e4a87b86a9620de25dcf1",
            "04212e6fab734a94a1b331148e4fa0f9",
            "ae73d6168fae47e9bf6ae78dd4981efd",
            "2160e3e468ec46b1b1c3e44385861dd4"
          ]
        },
        "cellView": "form",
        "id": "jcAP3LL0Jgj9",
        "outputId": "eba029bc-833e-44ef-f5ec-742fb4142738"
      },
      "execution_count": 61,
      "outputs": [
        {
          "output_type": "display_data",
          "data": {
            "text/plain": [
              "  0%|          | 0/50 [00:00<?, ?it/s]"
            ],
            "application/vnd.jupyter.widget-view+json": {
              "version_major": 2,
              "version_minor": 0,
              "model_id": "d9b0db79ea7543acb36a404cb2bdc4ac"
            }
          },
          "metadata": {}
        }
      ]
    },
    {
      "cell_type": "code",
      "source": [
        "#@title Play the sounds you just generated\n",
        "index_new = 3 #@param {type: \"integer\"}\n",
        "audios[index_new]"
      ],
      "metadata": {
        "colab": {
          "base_uri": "https://localhost:8080/",
          "height": 62
        },
        "cellView": "form",
        "id": "dPYHq_3SPZaY",
        "outputId": "de8ac5f3-c269-4407-9649-9b2d73bd8e6d"
      },
      "execution_count": 66,
      "outputs": [
        {
          "output_type": "execute_result",
          "data": {
            "text/plain": [
              "<pydub.audio_segment.AudioSegment at 0x79ade72a0100>"
            ],
            "text/html": [
              "\n",
              "                    <audio controls>\n",
              "                        <source src=\"data:audio/mpeg;base64,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\" type=\"audio/mpeg\"/>\n",
              "                        Your browser does not support the audio element.\n",
              "                    </audio>\n",
              "                  "
            ]
          },
          "metadata": {},
          "execution_count": 66
        }
      ]
    }
  ]
}